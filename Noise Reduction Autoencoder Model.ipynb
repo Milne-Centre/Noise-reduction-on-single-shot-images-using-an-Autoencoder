{
  "cells": [
    {
      "cell_type": "code",
      "execution_count": 14,
      "metadata": {
        "id": "xLnRc0jNeeV_"
      },
      "outputs": [],
      "source": [
        "import numpy as np\n",
        "import matplotlib.pyplot as plt\n",
        "\n",
        "from keras.models import Sequential, Model #inear stack of neural network layers\n",
        "from keras.layers import Dense, Dropout, Activation, Flatten, Input, UpSampling2D #core layers\n",
        "from keras.layers import Convolution2D, MaxPooling2D, Conv2D, Reshape, Conv2DTranspose #convolutional layers to help efficiently train on image data\n",
        "from keras.preprocessing.image import ImageDataGenerator\n",
        "from numpy import clip\n",
        "\n",
        "from PIL import Image\n",
        "\n",
        "from sklearn.model_selection import train_test_split\n",
        "\n",
        "from astropy.io import fits\n",
        "from skimage.transform import resize\n",
        "\n",
        "mywidth=myheight=256 "
      ]
    },
    {
      "cell_type": "code",
      "execution_count": 15,
      "metadata": {
        "id": "eN5XWzKhI9D8"
      },
      "outputs": [],
      "source": [
        "#setting up multi-gpu support, here using only gpu 0 and 1\n",
        "from tensorflow import distribute\n",
        "#strategy = distribute.MirroredStrategy(devices=[\"/gpu:0\", \"/gpu:1\"])"
      ]
    },
    {
      "cell_type": "markdown",
      "metadata": {
        "id": "LXDln9FdI9D8"
      },
      "source": [
        "## Reading image and changing it to be between 0-255 for noise application"
      ]
    },
    {
      "cell_type": "code",
      "source": [
        "#FITS input\n",
        "\n",
        "image_file = ' .fits'\n",
        "fits.info(image_file)\n",
        "image_data = fits.getdata(image_file, ext=0, view = 'ndarray')\n",
        "image_data = resize(image_data, (256, 256))\n",
        "\n",
        "image_zero = np.nan_to_num(image_data, nan=0.0)\n",
        "image_zero_max = np.max(image_zero)\n",
        "image_zero_min = np.min(image_zero)\n",
        "\n",
        "image_nan_edited = np.nan_to_num(image_data, nan=image_zero_max)\n",
        "image_nan_edited_max = np.max(image_nan_edited)\n",
        "image_nan_edited_min = np.min(image_nan_edited)\n",
        "\n",
        "image_minus_minimum = image_nan_edited - image_nan_edited_min\n",
        "image_minus_max = np.max(image_minus_minimum)\n",
        "image_minus_min = np.min(image_minus_minimum)\n",
        "\n",
        "image_divide_maximum = image_minus_minimum/image_minus_max\n",
        "image_divide_max = np.max(image_divide_maximum)\n",
        "image_divide_min = np.min(image_divide_maximum)\n",
        "\n",
        "scaled_ref = image_divide_maximum*255\n",
        "\n",
        "plt.figure()\n",
        "plt.imshow(scaled_ref)\n",
        "\n",
        "print(np.max(scaled_ref))\n",
        "print(np.min(scaled_ref))"
      ],
      "metadata": {
        "id": "Wr2MQ1Q6SYde",
        "colab": {
          "base_uri": "https://localhost:8080/",
          "height": 433
        },
        "outputId": "9bde84c0-a4d1-4b98-e337-3238d0555ea5"
      },
      "execution_count": 16,
      "outputs": [
        {
          "output_type": "error",
          "ename": "FileNotFoundError",
          "evalue": "ignored",
          "traceback": [
            "\u001b[0;31m---------------------------------------------------------------------------\u001b[0m",
            "\u001b[0;31mFileNotFoundError\u001b[0m                         Traceback (most recent call last)",
            "\u001b[0;32m<ipython-input-16-dd9bff8b6b80>\u001b[0m in \u001b[0;36m<module>\u001b[0;34m()\u001b[0m\n\u001b[1;32m      2\u001b[0m \u001b[0;34m\u001b[0m\u001b[0m\n\u001b[1;32m      3\u001b[0m \u001b[0mimage_file\u001b[0m \u001b[0;34m=\u001b[0m \u001b[0;34m' .fits'\u001b[0m\u001b[0;34m\u001b[0m\u001b[0;34m\u001b[0m\u001b[0m\n\u001b[0;32m----> 4\u001b[0;31m \u001b[0mfits\u001b[0m\u001b[0;34m.\u001b[0m\u001b[0minfo\u001b[0m\u001b[0;34m(\u001b[0m\u001b[0mimage_file\u001b[0m\u001b[0;34m)\u001b[0m\u001b[0;34m\u001b[0m\u001b[0;34m\u001b[0m\u001b[0m\n\u001b[0m\u001b[1;32m      5\u001b[0m \u001b[0mimage_data\u001b[0m \u001b[0;34m=\u001b[0m \u001b[0mfits\u001b[0m\u001b[0;34m.\u001b[0m\u001b[0mgetdata\u001b[0m\u001b[0;34m(\u001b[0m\u001b[0mimage_file\u001b[0m\u001b[0;34m,\u001b[0m \u001b[0mext\u001b[0m\u001b[0;34m=\u001b[0m\u001b[0;36m0\u001b[0m\u001b[0;34m,\u001b[0m \u001b[0mview\u001b[0m \u001b[0;34m=\u001b[0m \u001b[0;34m'ndarray'\u001b[0m\u001b[0;34m)\u001b[0m\u001b[0;34m\u001b[0m\u001b[0;34m\u001b[0m\u001b[0m\n\u001b[1;32m      6\u001b[0m \u001b[0mimage_data\u001b[0m \u001b[0;34m=\u001b[0m \u001b[0mresize\u001b[0m\u001b[0;34m(\u001b[0m\u001b[0mimage_data\u001b[0m\u001b[0;34m,\u001b[0m \u001b[0;34m(\u001b[0m\u001b[0;36m256\u001b[0m\u001b[0;34m,\u001b[0m \u001b[0;36m256\u001b[0m\u001b[0;34m)\u001b[0m\u001b[0;34m)\u001b[0m\u001b[0;34m\u001b[0m\u001b[0;34m\u001b[0m\u001b[0m\n",
            "\u001b[0;32m/usr/local/lib/python3.7/dist-packages/astropy/io/fits/convenience.py\u001b[0m in \u001b[0;36minfo\u001b[0;34m(filename, output, **kwargs)\u001b[0m\n\u001b[1;32m    794\u001b[0m         \u001b[0mkwargs\u001b[0m\u001b[0;34m[\u001b[0m\u001b[0;34m'ignore_missing_end'\u001b[0m\u001b[0;34m]\u001b[0m \u001b[0;34m=\u001b[0m \u001b[0;32mTrue\u001b[0m\u001b[0;34m\u001b[0m\u001b[0;34m\u001b[0m\u001b[0m\n\u001b[1;32m    795\u001b[0m \u001b[0;34m\u001b[0m\u001b[0m\n\u001b[0;32m--> 796\u001b[0;31m     \u001b[0mf\u001b[0m \u001b[0;34m=\u001b[0m \u001b[0mfitsopen\u001b[0m\u001b[0;34m(\u001b[0m\u001b[0mfilename\u001b[0m\u001b[0;34m,\u001b[0m \u001b[0mmode\u001b[0m\u001b[0;34m=\u001b[0m\u001b[0mmode\u001b[0m\u001b[0;34m,\u001b[0m \u001b[0;34m**\u001b[0m\u001b[0mkwargs\u001b[0m\u001b[0;34m)\u001b[0m\u001b[0;34m\u001b[0m\u001b[0;34m\u001b[0m\u001b[0m\n\u001b[0m\u001b[1;32m    797\u001b[0m     \u001b[0;32mtry\u001b[0m\u001b[0;34m:\u001b[0m\u001b[0;34m\u001b[0m\u001b[0;34m\u001b[0m\u001b[0m\n\u001b[1;32m    798\u001b[0m         \u001b[0mret\u001b[0m \u001b[0;34m=\u001b[0m \u001b[0mf\u001b[0m\u001b[0;34m.\u001b[0m\u001b[0minfo\u001b[0m\u001b[0;34m(\u001b[0m\u001b[0moutput\u001b[0m\u001b[0;34m=\u001b[0m\u001b[0moutput\u001b[0m\u001b[0;34m)\u001b[0m\u001b[0;34m\u001b[0m\u001b[0;34m\u001b[0m\u001b[0m\n",
            "\u001b[0;32m/usr/local/lib/python3.7/dist-packages/astropy/io/fits/hdu/hdulist.py\u001b[0m in \u001b[0;36mfitsopen\u001b[0;34m(name, mode, memmap, save_backup, cache, lazy_load_hdus, ignore_missing_simple, **kwargs)\u001b[0m\n\u001b[1;32m    172\u001b[0m \u001b[0;34m\u001b[0m\u001b[0m\n\u001b[1;32m    173\u001b[0m     return HDUList.fromfile(name, mode, memmap, save_backup, cache,\n\u001b[0;32m--> 174\u001b[0;31m                             lazy_load_hdus, ignore_missing_simple, **kwargs)\n\u001b[0m\u001b[1;32m    175\u001b[0m \u001b[0;34m\u001b[0m\u001b[0m\n\u001b[1;32m    176\u001b[0m \u001b[0;34m\u001b[0m\u001b[0m\n",
            "\u001b[0;32m/usr/local/lib/python3.7/dist-packages/astropy/io/fits/hdu/hdulist.py\u001b[0m in \u001b[0;36mfromfile\u001b[0;34m(cls, fileobj, mode, memmap, save_backup, cache, lazy_load_hdus, ignore_missing_simple, **kwargs)\u001b[0m\n\u001b[1;32m    409\u001b[0m                              \u001b[0msave_backup\u001b[0m\u001b[0;34m=\u001b[0m\u001b[0msave_backup\u001b[0m\u001b[0;34m,\u001b[0m \u001b[0mcache\u001b[0m\u001b[0;34m=\u001b[0m\u001b[0mcache\u001b[0m\u001b[0;34m,\u001b[0m\u001b[0;34m\u001b[0m\u001b[0;34m\u001b[0m\u001b[0m\n\u001b[1;32m    410\u001b[0m                              \u001b[0mignore_missing_simple\u001b[0m\u001b[0;34m=\u001b[0m\u001b[0mignore_missing_simple\u001b[0m\u001b[0;34m,\u001b[0m\u001b[0;34m\u001b[0m\u001b[0;34m\u001b[0m\u001b[0m\n\u001b[0;32m--> 411\u001b[0;31m                              lazy_load_hdus=lazy_load_hdus, **kwargs)\n\u001b[0m\u001b[1;32m    412\u001b[0m \u001b[0;34m\u001b[0m\u001b[0m\n\u001b[1;32m    413\u001b[0m     \u001b[0;34m@\u001b[0m\u001b[0mclassmethod\u001b[0m\u001b[0;34m\u001b[0m\u001b[0;34m\u001b[0m\u001b[0m\n",
            "\u001b[0;32m/usr/local/lib/python3.7/dist-packages/astropy/io/fits/hdu/hdulist.py\u001b[0m in \u001b[0;36m_readfrom\u001b[0;34m(cls, fileobj, data, mode, memmap, cache, lazy_load_hdus, ignore_missing_simple, **kwargs)\u001b[0m\n\u001b[1;32m   1062\u001b[0m             \u001b[0;32mif\u001b[0m \u001b[0;32mnot\u001b[0m \u001b[0misinstance\u001b[0m\u001b[0;34m(\u001b[0m\u001b[0mfileobj\u001b[0m\u001b[0;34m,\u001b[0m \u001b[0m_File\u001b[0m\u001b[0;34m)\u001b[0m\u001b[0;34m:\u001b[0m\u001b[0;34m\u001b[0m\u001b[0;34m\u001b[0m\u001b[0m\n\u001b[1;32m   1063\u001b[0m                 \u001b[0;31m# instantiate a FITS file object (ffo)\u001b[0m\u001b[0;34m\u001b[0m\u001b[0;34m\u001b[0m\u001b[0;34m\u001b[0m\u001b[0m\n\u001b[0;32m-> 1064\u001b[0;31m                 \u001b[0mfileobj\u001b[0m \u001b[0;34m=\u001b[0m \u001b[0m_File\u001b[0m\u001b[0;34m(\u001b[0m\u001b[0mfileobj\u001b[0m\u001b[0;34m,\u001b[0m \u001b[0mmode\u001b[0m\u001b[0;34m=\u001b[0m\u001b[0mmode\u001b[0m\u001b[0;34m,\u001b[0m \u001b[0mmemmap\u001b[0m\u001b[0;34m=\u001b[0m\u001b[0mmemmap\u001b[0m\u001b[0;34m,\u001b[0m \u001b[0mcache\u001b[0m\u001b[0;34m=\u001b[0m\u001b[0mcache\u001b[0m\u001b[0;34m)\u001b[0m\u001b[0;34m\u001b[0m\u001b[0;34m\u001b[0m\u001b[0m\n\u001b[0m\u001b[1;32m   1065\u001b[0m             \u001b[0;31m# The Astropy mode is determined by the _File initializer if the\u001b[0m\u001b[0;34m\u001b[0m\u001b[0;34m\u001b[0m\u001b[0;34m\u001b[0m\u001b[0m\n\u001b[1;32m   1066\u001b[0m             \u001b[0;31m# supplied mode was None\u001b[0m\u001b[0;34m\u001b[0m\u001b[0;34m\u001b[0m\u001b[0;34m\u001b[0m\u001b[0m\n",
            "\u001b[0;32m/usr/local/lib/python3.7/dist-packages/astropy/utils/decorators.py\u001b[0m in \u001b[0;36mwrapper\u001b[0;34m(*args, **kwargs)\u001b[0m\n\u001b[1;32m    534\u001b[0m                     \u001b[0mwarnings\u001b[0m\u001b[0;34m.\u001b[0m\u001b[0mwarn\u001b[0m\u001b[0;34m(\u001b[0m\u001b[0mmessage\u001b[0m\u001b[0;34m,\u001b[0m \u001b[0mwarning_type\u001b[0m\u001b[0;34m,\u001b[0m \u001b[0mstacklevel\u001b[0m\u001b[0;34m=\u001b[0m\u001b[0;36m2\u001b[0m\u001b[0;34m)\u001b[0m\u001b[0;34m\u001b[0m\u001b[0;34m\u001b[0m\u001b[0m\n\u001b[1;32m    535\u001b[0m \u001b[0;34m\u001b[0m\u001b[0m\n\u001b[0;32m--> 536\u001b[0;31m             \u001b[0;32mreturn\u001b[0m \u001b[0mfunction\u001b[0m\u001b[0;34m(\u001b[0m\u001b[0;34m*\u001b[0m\u001b[0margs\u001b[0m\u001b[0;34m,\u001b[0m \u001b[0;34m**\u001b[0m\u001b[0mkwargs\u001b[0m\u001b[0;34m)\u001b[0m\u001b[0;34m\u001b[0m\u001b[0;34m\u001b[0m\u001b[0m\n\u001b[0m\u001b[1;32m    537\u001b[0m \u001b[0;34m\u001b[0m\u001b[0m\n\u001b[1;32m    538\u001b[0m         \u001b[0;32mreturn\u001b[0m \u001b[0mwrapper\u001b[0m\u001b[0;34m\u001b[0m\u001b[0;34m\u001b[0m\u001b[0m\n",
            "\u001b[0;32m/usr/local/lib/python3.7/dist-packages/astropy/io/fits/file.py\u001b[0m in \u001b[0;36m__init__\u001b[0;34m(self, fileobj, mode, memmap, overwrite, cache)\u001b[0m\n\u001b[1;32m    168\u001b[0m             \u001b[0mself\u001b[0m\u001b[0;34m.\u001b[0m\u001b[0m_open_fileobj\u001b[0m\u001b[0;34m(\u001b[0m\u001b[0mfileobj\u001b[0m\u001b[0;34m,\u001b[0m \u001b[0mmode\u001b[0m\u001b[0;34m,\u001b[0m \u001b[0moverwrite\u001b[0m\u001b[0;34m)\u001b[0m\u001b[0;34m\u001b[0m\u001b[0;34m\u001b[0m\u001b[0m\n\u001b[1;32m    169\u001b[0m         \u001b[0;32melif\u001b[0m \u001b[0misinstance\u001b[0m\u001b[0;34m(\u001b[0m\u001b[0mfileobj\u001b[0m\u001b[0;34m,\u001b[0m \u001b[0;34m(\u001b[0m\u001b[0mstr\u001b[0m\u001b[0;34m,\u001b[0m \u001b[0mbytes\u001b[0m\u001b[0;34m)\u001b[0m\u001b[0;34m)\u001b[0m\u001b[0;34m:\u001b[0m\u001b[0;34m\u001b[0m\u001b[0;34m\u001b[0m\u001b[0m\n\u001b[0;32m--> 170\u001b[0;31m             \u001b[0mself\u001b[0m\u001b[0;34m.\u001b[0m\u001b[0m_open_filename\u001b[0m\u001b[0;34m(\u001b[0m\u001b[0mfileobj\u001b[0m\u001b[0;34m,\u001b[0m \u001b[0mmode\u001b[0m\u001b[0;34m,\u001b[0m \u001b[0moverwrite\u001b[0m\u001b[0;34m)\u001b[0m\u001b[0;34m\u001b[0m\u001b[0;34m\u001b[0m\u001b[0m\n\u001b[0m\u001b[1;32m    171\u001b[0m         \u001b[0;32melse\u001b[0m\u001b[0;34m:\u001b[0m\u001b[0;34m\u001b[0m\u001b[0;34m\u001b[0m\u001b[0m\n\u001b[1;32m    172\u001b[0m             \u001b[0mself\u001b[0m\u001b[0;34m.\u001b[0m\u001b[0m_open_filelike\u001b[0m\u001b[0;34m(\u001b[0m\u001b[0mfileobj\u001b[0m\u001b[0;34m,\u001b[0m \u001b[0mmode\u001b[0m\u001b[0;34m,\u001b[0m \u001b[0moverwrite\u001b[0m\u001b[0;34m)\u001b[0m\u001b[0;34m\u001b[0m\u001b[0;34m\u001b[0m\u001b[0m\n",
            "\u001b[0;32m/usr/local/lib/python3.7/dist-packages/astropy/io/fits/file.py\u001b[0m in \u001b[0;36m_open_filename\u001b[0;34m(self, filename, mode, overwrite)\u001b[0m\n\u001b[1;32m    556\u001b[0m \u001b[0;34m\u001b[0m\u001b[0m\n\u001b[1;32m    557\u001b[0m         \u001b[0;32mif\u001b[0m \u001b[0;32mnot\u001b[0m \u001b[0mself\u001b[0m\u001b[0;34m.\u001b[0m\u001b[0m_try_read_compressed\u001b[0m\u001b[0;34m(\u001b[0m\u001b[0mself\u001b[0m\u001b[0;34m.\u001b[0m\u001b[0mname\u001b[0m\u001b[0;34m,\u001b[0m \u001b[0mmagic\u001b[0m\u001b[0;34m,\u001b[0m \u001b[0mmode\u001b[0m\u001b[0;34m,\u001b[0m \u001b[0mext\u001b[0m\u001b[0;34m=\u001b[0m\u001b[0mext\u001b[0m\u001b[0;34m)\u001b[0m\u001b[0;34m:\u001b[0m\u001b[0;34m\u001b[0m\u001b[0;34m\u001b[0m\u001b[0m\n\u001b[0;32m--> 558\u001b[0;31m             \u001b[0mself\u001b[0m\u001b[0;34m.\u001b[0m\u001b[0m_file\u001b[0m \u001b[0;34m=\u001b[0m \u001b[0mfileobj_open\u001b[0m\u001b[0;34m(\u001b[0m\u001b[0mself\u001b[0m\u001b[0;34m.\u001b[0m\u001b[0mname\u001b[0m\u001b[0;34m,\u001b[0m \u001b[0mIO_FITS_MODES\u001b[0m\u001b[0;34m[\u001b[0m\u001b[0mmode\u001b[0m\u001b[0;34m]\u001b[0m\u001b[0;34m)\u001b[0m\u001b[0;34m\u001b[0m\u001b[0;34m\u001b[0m\u001b[0m\n\u001b[0m\u001b[1;32m    559\u001b[0m             \u001b[0mself\u001b[0m\u001b[0;34m.\u001b[0m\u001b[0mclose_on_error\u001b[0m \u001b[0;34m=\u001b[0m \u001b[0;32mTrue\u001b[0m\u001b[0;34m\u001b[0m\u001b[0;34m\u001b[0m\u001b[0m\n\u001b[1;32m    560\u001b[0m \u001b[0;34m\u001b[0m\u001b[0m\n",
            "\u001b[0;32m/usr/local/lib/python3.7/dist-packages/astropy/io/fits/util.py\u001b[0m in \u001b[0;36mfileobj_open\u001b[0;34m(filename, mode)\u001b[0m\n\u001b[1;32m    388\u001b[0m     \"\"\"\n\u001b[1;32m    389\u001b[0m \u001b[0;34m\u001b[0m\u001b[0m\n\u001b[0;32m--> 390\u001b[0;31m     \u001b[0;32mreturn\u001b[0m \u001b[0mopen\u001b[0m\u001b[0;34m(\u001b[0m\u001b[0mfilename\u001b[0m\u001b[0;34m,\u001b[0m \u001b[0mmode\u001b[0m\u001b[0;34m,\u001b[0m \u001b[0mbuffering\u001b[0m\u001b[0;34m=\u001b[0m\u001b[0;36m0\u001b[0m\u001b[0;34m)\u001b[0m\u001b[0;34m\u001b[0m\u001b[0;34m\u001b[0m\u001b[0m\n\u001b[0m\u001b[1;32m    391\u001b[0m \u001b[0;34m\u001b[0m\u001b[0m\n\u001b[1;32m    392\u001b[0m \u001b[0;34m\u001b[0m\u001b[0m\n",
            "\u001b[0;31mFileNotFoundError\u001b[0m: [Errno 2] No such file or directory: ' .fits'"
          ]
        }
      ]
    },
    {
      "cell_type": "markdown",
      "metadata": {
        "id": "k2ec9tRezeYf"
      },
      "source": [
        "# Add Read Noise"
      ]
    },
    {
      "cell_type": "code",
      "execution_count": null,
      "metadata": {
        "id": "NCz6F-MpzerX"
      },
      "outputs": [],
      "source": [
        "#https://mwcraig.github.io/ccd-as-book/01-03-Construction-of-an-artificial-but-realistic-image.html\n",
        "def read_noise(image, amount, gain=2):                 \n",
        "    \"\"\"\n",
        "    Generate simulated read noise.\n",
        "    \n",
        "    Parameters\n",
        "    ----------\n",
        "    \n",
        "    image: numpy array\n",
        "        Image whose shape the noise array should match.\n",
        "    amount : float\n",
        "        Amount of read noise, in electrons.\n",
        "    gain : float, optional\n",
        "        Gain of the camera, in units of electrons/ADU.\n",
        "    \"\"\"\n",
        "    shape = 256,256\n",
        "    \n",
        "    noise = np.random.normal(scale=amount/gain, size=shape)\n",
        "    return noise\n",
        "\n"
      ]
    },
    {
      "cell_type": "markdown",
      "metadata": {
        "id": "6qioPwG_NE9Y"
      },
      "source": [
        "# ADD RANDOM GAUSSIAN NOISE\n"
      ]
    },
    {
      "cell_type": "code",
      "execution_count": null,
      "metadata": {
        "id": "__XqUXHwj6WZ"
      },
      "outputs": [],
      "source": [
        "#Image transformation FUNCTIONS (images pixel values [0..255])\n",
        "\n",
        "#add noise to picture\n",
        "def noise(image,level):\n",
        "    # adding a gaussian random nois with mu=0 and sigma=128\n",
        "    temp=image+level*np.random.normal(0, 128, size=(image.shape[0],image.shape[1]))\n",
        "    # #removing negative pixels (set to zero) and normalising back to 255\n",
        "    regular= temp*(temp>0)                                                     \n",
        "    mynorm=255./np.max(temp)                                                   \n",
        "    # #converting the image back to integer numbers      \n",
        "    temp = np.around(mynorm*regular).astype('int')                             \n",
        "    return(temp)\n",
        "\n"
      ]
    },
    {
      "cell_type": "code",
      "source": [
        "#create a noisy ref of gaussian noise\n",
        "Guussian_noisy=noise(scaled_ref,0.1)\n",
        "Guussian_noisy=Guussian_noisy.astype('uint8')    "
      ],
      "metadata": {
        "id": "sRAWPU_9QEO5"
      },
      "execution_count": null,
      "outputs": []
    },
    {
      "cell_type": "markdown",
      "metadata": {
        "id": "XJfw7t-finC2"
      },
      "source": [
        "# ADD POISSON NOISE"
      ]
    },
    {
      "cell_type": "code",
      "execution_count": null,
      "metadata": {
        "id": "9wcU1s0PihX2"
      },
      "outputs": [],
      "source": [
        "#https://theailearner.com/2019/05/07/add-different-noise-to-an-image/\n",
        "import cv2\n",
        "import numpy as np\n",
        "from skimage.util import random_noise\n",
        "\n",
        "#Load the image\n",
        "image_array = Guussian_noisy\n",
        "\n",
        "  # Add noise to the image.\n",
        "Poisson_noisy = random_noise(image_array, mode='poisson')\n",
        "\n",
        "  # The above function returns a floating-point image\n",
        "  # on the range [0, 1], thus we changed it to 'uint8'\n",
        "  # and from [0,255]\n",
        "Poisson_noisy = np.array(255*Poisson_noisy, dtype = 'uint8')                   \n"
      ]
    },
    {
      "cell_type": "code",
      "execution_count": null,
      "metadata": {
        "id": "d13RjdNRiqWV"
      },
      "outputs": [],
      "source": [
        "#create a noisy ref from the gaussian noise image with poisson and read (possion done above using gaussian noise image)                  \n",
        "noisy_ref = Poisson_noisy + read_noise(Poisson_noisy, 5)\n",
        "\n",
        "#normalise the pixel values between 0 and 1, since read noise application distorts the image\n",
        "noisy_ref = (noisy_ref - np.min(noisy_ref))/(np.max(noisy_ref)-(np.min(noisy_ref)))"
      ]
    },
    {
      "cell_type": "markdown",
      "metadata": {
        "id": "B_cxkYh7jUAs"
      },
      "source": [
        "# Viewing noise application results"
      ]
    },
    {
      "cell_type": "code",
      "execution_count": null,
      "metadata": {
        "id": "dlUnxJHtkRiS"
      },
      "outputs": [],
      "source": [
        "#testing image transformations\n",
        "plt.imshow(scaled_ref)\n",
        "plt.show()\n",
        "print(np.min(scaled_ref))\n",
        "print(np.max(scaled_ref))\n",
        "print(scaled_ref.dtype)\n",
        "\n",
        "plt.imshow(Guussian_noisy)\n",
        "plt.show()\n",
        "print(np.min(Guussian_noisy))\n",
        "print(np.max(Guussian_noisy))\n",
        "print(Guussian_noisy.dtype)\n",
        "\n",
        "plt.imshow(Poisson_noisy)\n",
        "plt.show()\n",
        "print(np.min(Poisson_noisy))\n",
        "print(np.max(Poisson_noisy))\n",
        "print(Poisson_noisy.dtype)\n",
        "\n",
        "plt.imshow(noisy_ref)\n",
        "plt.show()\n",
        "print(np.min(noisy_ref))\n",
        "print(np.max(noisy_ref))\n",
        "print(noisy_ref.dtype)"
      ]
    },
    {
      "cell_type": "markdown",
      "metadata": {
        "id": "7qvhXWJ4rElJ"
      },
      "source": [
        "## Use data augmentation to create a dataset from a single image"
      ]
    },
    {
      "cell_type": "code",
      "execution_count": null,
      "metadata": {
        "id": "nhtTlYbXt4Sx"
      },
      "outputs": [],
      "source": [
        "#First we need to add a channel index at the end of the np.array\n",
        "channel1 = np.expand_dims(scaled_ref, 2)                                   \n",
        "#Then we can use image_data_generator from Keras to create a dataset\n",
        "#define our \"samples\" as being just one image and add a dimension for this (at the start)\n",
        "samples= np.expand_dims(channel1, 0)\n",
        "# create image data augmentation generator\n",
        "datagen = ImageDataGenerator(rotation_range=360,height_shift_range=0.25,width_shift_range=0.25,fill_mode=\"constant\",)\n",
        "datagen.fit(samples)\n",
        "#create the new dataset (both clean, noisy and very noisy at the same time)\n",
        "maxsize=3000\n",
        "#storage arrrays\n",
        "augmented=[]\n",
        "noisy=[]\n",
        "#instanciating the generator\n",
        "it = datagen.flow(samples, batch_size=1)\n",
        "#filling the arrays\n",
        "for i in range(maxsize):\n",
        "  new_image=it.next()[0]\n",
        "# normalising the image\n",
        "  augmented.append(new_image.astype('float32')/255.)\n",
        "# noise addition to image and normalising\n",
        "  noisy.append(noise(new_image[:,:,0],0.1).astype('float32')/255.)\n",
        "\n",
        "#Re-shaping the sets so that they are in the sample, x,y, channel order\n",
        "created_set=np.reshape(augmented, [-1, mywidth,myheight, 1])\n",
        "noisycreated_set=np.reshape(noisy, [-1, mywidth,myheight, 1])"
      ]
    },
    {
      "cell_type": "code",
      "source": [
        "noisycreated_set=np.reshape(noisycreated_set, [-1, mywidth,myheight])\n",
        "noisycreated_set = random_noise(noisycreated_set, mode='poisson')\n",
        "noisycreated_set = np.array(255*noisycreated_set, dtype = 'uint8')\n",
        "noisycreated_set = noisycreated_set + read_noise(noisycreated_set, 5)\n",
        "\n",
        "#normalise the pixel values between 0 and 1, since read noise application distorts the image\n",
        "\n",
        "noisycreated_set = noisycreated_set - np.min(noisycreated_set)\n",
        "noisycreated_set = noisycreated_set / np.max(noisycreated_set)\n",
        "noisycreated_set=np.reshape(noisycreated_set, [-1, mywidth,myheight, 1])"
      ],
      "metadata": {
        "id": "6J7CW0o_rxmn"
      },
      "execution_count": null,
      "outputs": []
    },
    {
      "cell_type": "code",
      "execution_count": null,
      "metadata": {
        "id": "vG8OKgKy8wHf"
      },
      "outputs": [],
      "source": [
        "#Quick check of the outputs\n",
        "plt.imshow(created_set[99,:,:,0])\n",
        "plt.show()\n",
        "print(np.min(created_set[0]))\n",
        "print(np.max(created_set[0]))\n",
        "print(created_set[0].dtype)\n",
        "plt.imshow(noisycreated_set[99,:,:,0])\n",
        "plt.show()\n",
        "print(np.min(noisycreated_set[0]))\n",
        "print(np.max(noisycreated_set[0]))\n",
        "print(noisycreated_set[0].dtype)"
      ]
    },
    {
      "cell_type": "code",
      "execution_count": null,
      "metadata": {
        "id": "blyqYt9h9L9I"
      },
      "outputs": [],
      "source": [
        "#splitting the dataset into training and test (70/30)\n",
        "X_train, X_test = train_test_split(created_set, test_size=0.3,random_state=2345173645)\n",
        "X_train_noisy, X_test_noisy = train_test_split(noisycreated_set, test_size=0.3,random_state=2345173645)"
      ]
    },
    {
      "cell_type": "markdown",
      "metadata": {
        "id": "XC0BILByI9EC"
      },
      "source": [
        "## Auto-encoder definition and training & cross-check"
      ]
    },
    {
      "cell_type": "code",
      "execution_count": null,
      "metadata": {
        "id": "hh2_E3FXI9ED"
      },
      "outputs": [],
      "source": [
        "#adapted from https://keras.io/examples/vision/autoencoder/\n",
        "#bigger model (GET ALL gpuS)\n",
        "strategy = distribute.MirroredStrategy(devices=[\"/gpu:0\", \"/gpu:1\", \"/gpu:2\", \"/gpu:3\"])\n",
        "with strategy.scope():\n",
        "    input = Input(shape=channel1.shape)\n",
        "\n",
        "# Encoder\n",
        "    x = Conv2D(32, (3, 3), activation=\"relu\", padding=\"same\")(input)\n",
        "    x = MaxPooling2D((2, 2), padding=\"same\")(x)\n",
        "    x = Conv2D(16, (3, 3), activation=\"relu\", padding=\"same\")(x)\n",
        "    x = MaxPooling2D((2, 2), padding=\"same\")(x)\n",
        "\n",
        "# Decoder\n",
        "    x = Conv2DTranspose(16, (3, 3), strides=2, activation=\"relu\", padding=\"same\")(x)\n",
        "    x = Conv2DTranspose(32, (3, 3), strides=2, activation=\"relu\", padding=\"same\")(x)\n",
        "    x = Conv2D(1, (3, 3), activation=\"relu\", padding=\"same\")(x)\n",
        "\n",
        "# Autoencoder\n",
        "    autoencoder = Model(input, x)\n",
        "    autoencoder.compile(optimizer=\"adam\", loss=\"binary_crossentropy\")\n",
        "    autoencoder.summary()\n"
      ]
    },
    {
      "cell_type": "code",
      "execution_count": null,
      "metadata": {
        "id": "DCYrvF_UjBFK"
      },
      "outputs": [],
      "source": [
        "batch_size = 4\n",
        "\n",
        "#history=autoencoder.fit(X_train_noisymore, X_train_noisy,\n",
        "history=autoencoder.fit(X_train_noisy, X_train,\n",
        "                validation_data=(X_test_noisy, X_test),\n",
        "                epochs=20,\n",
        "                shuffle=True,\n",
        "                batch_size=batch_size)"
      ]
    },
    {
      "cell_type": "code",
      "execution_count": null,
      "metadata": {
        "id": "3TV0fi_lPsNE"
      },
      "outputs": [],
      "source": [
        "f = plt.figure()\n",
        "# Plot training & validation loss values\n",
        "plt.plot(history.history['loss'])\n",
        "plt.plot(history.history['val_loss'])\n",
        "\n",
        "plt.title('Model loss')\n",
        "plt.ylabel('Loss')\n",
        "plt.xlabel('Epoch')\n",
        "plt.legend(['Train', 'Test'], loc='upper right')\n",
        "plt.show()"
      ]
    },
    {
      "cell_type": "code",
      "execution_count": null,
      "metadata": {
        "id": "GPEC4CEXI9EE"
      },
      "outputs": [],
      "source": [
        "# Predict the Autoencoder output from noisy test image\n",
        "noisy_decoded = autoencoder.predict(samples)\n",
        "\n",
        "# noisy_decoded = noisy_decoded*(np.max(image_data))\n",
        "\n",
        "plt.imshow(noisy_decoded[0].reshape(256,256))\n",
        "plt.show()"
      ]
    },
    {
      "cell_type": "markdown",
      "metadata": {
        "id": "ESQZuFGII9EE"
      },
      "source": [
        "## Comparison of results using MSE and SSIM metrics"
      ]
    },
    {
      "cell_type": "code",
      "execution_count": null,
      "metadata": {
        "id": "vanHqIJcPAuF"
      },
      "outputs": [],
      "source": [
        "#Comparison metrics\n",
        "from skimage.metrics import structural_similarity as ssim\n",
        "\n",
        "def mse(imageA, imageB):\n",
        "\t# the 'Mean Squared Error' between the two images is the\n",
        "\t# sum of the squared difference between the two images;\n",
        "\t# NOTE: the two images must have the same dimension\n",
        "\terr = np.sum((imageA.astype(\"float\") - imageB.astype(\"float\")) ** 2)\n",
        "\terr /= float(imageA.shape[0] * imageA.shape[1])\n",
        "\t\n",
        "\t# return the MSE, the lower the error, the more \"similar\"\n",
        "\t# the two images are\n",
        "\treturn err\n",
        "\n",
        "def compare_images(imageA, imageB, title):\n",
        "\t# compute the mean squared error and structural similarity\n",
        "\t# index for the images\n",
        "  m = mse(imageA, imageB)\n",
        "  s = ssim(imageA, imageB)\n",
        "\t# setup the figure\n",
        "  fig = plt.figure(title)\n",
        "  print(\"MSE: %.6f, SSIM: %.2f\" % (m, s))\n",
        "  plt.suptitle(\"MSE: %.6f, SSIM: %.2f\" % (m, s))\n",
        "\t# show first image\n",
        "  ax = fig.add_subplot(1, 2, 1)\n",
        "  plt.imshow(imageA)#, cmap = plt.cm.gray)\n",
        "  plt.axis(\"off\")\n",
        "\t# show the second image\n",
        "  ax = fig.add_subplot(1, 2, 2)\n",
        "  plt.imshow(imageB)#, cmap = plt.cm.gray)\n",
        "  plt.axis(\"off\")\n",
        "\t# show the images\n",
        "  plt.show()"
      ]
    },
    {
      "cell_type": "code",
      "source": [
        "#FITS input\n",
        "\n",
        "image_file2 = ' .fits'\n",
        "fits.info(image_file2)\n",
        "image_data_stack = fits.getdata(image_file2, ext=0, view = 'ndarray')\n",
        "image_data_stack = resize(image_data_stack, (256, 256))\n",
        "\n",
        "image_zero_stack = np.nan_to_num(image_data_stack, nan=0.0)\n",
        "image_zero_max_stack = np.max(image_zero_stack)\n",
        "image_zero_min_stack = np.min(image_zero_stack)\n",
        "\n",
        "image_nan_edited_stack = np.nan_to_num(image_data_stack, nan=image_zero_max_stack)\n",
        "image_nan_edited_max_stack = np.max(image_nan_edited_stack)\n",
        "image_nan_edited_min_stack = np.min(image_nan_edited_stack)\n",
        "\n",
        "image_minus_minimum_stack = image_nan_edited_stack - image_nan_edited_min_stack\n",
        "image_minus_max_stack = np.max(image_minus_minimum_stack)\n",
        "image_minus_min_stack = np.min(image_minus_minimum_stack)\n",
        "\n",
        "image_divide_maximum_stack = image_minus_minimum_stack/image_minus_max_stack\n",
        "image_divide_max_stack = np.max(image_divide_maximum_stack)\n",
        "image_divide_min_stack = np.min(image_divide_maximum_stack)\n",
        "\n",
        "Alternate_ref = image_divide_maximum_stack*255\n",
        "print(np.max(Alternate_ref))\n",
        "print(np.min(Alternate_ref))\n",
        "print(Alternate_ref.dtype)\n",
        "\n",
        "\n",
        "plt.figure()\n",
        "plt.imshow(Alternate_ref)"
      ],
      "metadata": {
        "id": "lXnD0v_kVVSe"
      },
      "execution_count": null,
      "outputs": []
    },
    {
      "cell_type": "code",
      "execution_count": null,
      "metadata": {
        "id": "M9i6qXE9I9EF"
      },
      "outputs": [],
      "source": [
        "# #Normalising images for comparison\n",
        "Alternate_reference=Alternate_ref.astype('float32')/255. #Stacked image\n",
        "\n",
        "Normalised_reference=scaled_ref.astype('float32')/255. #Original image\n",
        "\n",
        "Normalised_decoded=noisy_decoded[0].reshape(256,256)/np.max(noisy_decoded[0]) #Decoded\n",
        "\n",
        "Normalised_noisy_original=noisy_ref.astype('float32') #Noisy image"
      ]
    },
    {
      "cell_type": "code",
      "execution_count": null,
      "metadata": {
        "id": "mCAe_iuu3t5b"
      },
      "outputs": [],
      "source": [
        "print(np.min(Alternate_reference))\n",
        "print(np.max(Alternate_reference))\n",
        "print(Alternate_reference.dtype)\n",
        "print()\n",
        "print(np.min(Normalised_reference))\n",
        "print(np.max(Normalised_reference))\n",
        "print(Normalised_reference.dtype)\n",
        "print()\n",
        "print(np.min(Normalised_decoded))\n",
        "print(np.max(Normalised_decoded))\n",
        "print(Normalised_decoded.dtype)\n",
        "print()\n",
        "print(np.min(Normalised_noisy_original))\n",
        "print(np.max(Normalised_noisy_original))\n",
        "print(Normalised_noisy_original.dtype)"
      ]
    },
    {
      "cell_type": "code",
      "execution_count": null,
      "metadata": {
        "id": "xeppGeOZPDyu"
      },
      "outputs": [],
      "source": [
        "#Compare images original reference with de-noised\n",
        "compare_images(Normalised_reference,Normalised_decoded,\"boo\")"
      ]
    },
    {
      "cell_type": "code",
      "execution_count": null,
      "metadata": {
        "id": "sm-C_gxlPMGA"
      },
      "outputs": [],
      "source": [
        "#Compare images original reference with noisy original\n",
        "compare_images(Normalised_reference,Normalised_noisy_original,\"boo\")"
      ]
    },
    {
      "cell_type": "code",
      "execution_count": null,
      "metadata": {
        "id": "K5f8HFKzAJnp"
      },
      "outputs": [],
      "source": [
        "#Compare alternate with denoised\n",
        "compare_images(Alternate_reference,Normalised_decoded,\"boo\")"
      ]
    },
    {
      "cell_type": "code",
      "execution_count": null,
      "metadata": {
        "id": "qnHAS6bHAJuQ"
      },
      "outputs": [],
      "source": [
        "#Compare alternate with noisy original\n",
        "compare_images(Alternate_reference,Normalised_noisy_original,\"boo\")"
      ]
    },
    {
      "cell_type": "code",
      "execution_count": null,
      "metadata": {
        "id": "pl15RcVcAJ4a"
      },
      "outputs": [],
      "source": [
        "#Compare alternate with original\n",
        "compare_images(Alternate_reference,Normalised_reference,\"boo\")"
      ]
    },
    {
      "cell_type": "markdown",
      "source": [
        "# Gini"
      ],
      "metadata": {
        "id": "BrDI3-FEphHT"
      }
    },
    {
      "cell_type": "code",
      "execution_count": null,
      "metadata": {
        "id": "O-V3uWKpBCQy"
      },
      "outputs": [],
      "source": [
        "def gini(array):\n",
        "    \"\"\"Calculate the Gini coefficient of a numpy array.\"\"\"\n",
        "    # based on bottom eq: http://www.statsdirect.com/help/content/image/stat0206_wmf.gif\n",
        "    # from: http://www.statsdirect.com/help/default.htm#nonparametric_methods/gini.htm\n",
        "    array = array.flatten() #all values are treated equally, arrays must be 1d\n",
        "    if np.amin(array) < 0:\n",
        "        array -= np.amin(array) #values cannot be negative\n",
        "    #array += 0.0000001 #values cannot be 0\n",
        "    array = np.sort(array) #values must be sorted\n",
        "    index = np.arange(1,array.shape[0]+1) #index per array element\n",
        "    n = array.shape[0]#number of array elements\n",
        "    return ((np.sum((2 * index - n  - 1) * array)) / (n * np.sum(array))) #Gini coefficient\n",
        "\n",
        "\n",
        "\n",
        "print(\"Gini coefficient for original image is\", gini(Normalised_reference))\n",
        "print(\"Gini coefficient for decoded image is\", gini(Normalised_decoded))\n",
        "print(\"Gini coefficient for noisy image is\", gini(Normalised_noisy_original))\n",
        "print(\"Gini coefficient for alternate image is\", gini(Alternate_reference))"
      ]
    },
    {
      "cell_type": "markdown",
      "source": [
        "# Export FITS"
      ],
      "metadata": {
        "id": "NRMTTyyrjPtC"
      }
    },
    {
      "cell_type": "code",
      "execution_count": null,
      "metadata": {
        "id": "3GRA3VkUitzg"
      },
      "outputs": [],
      "source": [
        "f = plt.figure()\n",
        "plt.imshow(Normalised_reference)\n",
        "plt.axis('off')\n",
        "plt.show()\n",
        "\n",
        "print(np.max(Normalised_reference))\n",
        "print(np.min(Normalised_reference))\n",
        "print()\n",
        "\n",
        "reverse = Normalised_reference * image_minus_max\n",
        "print(np.max(reverse))\n",
        "print(np.min(reverse))\n",
        "print()\n",
        "\n",
        "reverse = reverse + image_nan_edited_min\n",
        "print(np.max(reverse))\n",
        "print(np.min(reverse))\n",
        "print()\n",
        "\n",
        "hdu = fits.PrimaryHDU(reverse)\n",
        "hdul = fits.HDUList([hdu])\n",
        "hdul.writeto(' .fits')"
      ]
    },
    {
      "cell_type": "code",
      "execution_count": null,
      "metadata": {
        "id": "vxARjfB2i1Kf"
      },
      "outputs": [],
      "source": [
        "f = plt.figure()\n",
        "plt.imshow(Normalised_noisy_original)\n",
        "plt.axis('off')\n",
        "plt.show()\n",
        "\n",
        "print(np.max(Normalised_noisy_original))\n",
        "print(np.min(Normalised_noisy_original))\n",
        "print()\n",
        "\n",
        "reverse = Normalised_noisy_original * image_minus_max\n",
        "print(np.max(reverse))\n",
        "print(np.min(reverse))\n",
        "print()\n",
        "\n",
        "reverse = reverse + image_nan_edited_min\n",
        "print(np.max(reverse))\n",
        "print(np.min(reverse))\n",
        "print()\n",
        "\n",
        "hdu = fits.PrimaryHDU(reverse)\n",
        "hdul = fits.HDUList([hdu])\n",
        "hdul.writeto(' .fits')"
      ]
    },
    {
      "cell_type": "code",
      "execution_count": null,
      "metadata": {
        "id": "dwu6LNAWBy78"
      },
      "outputs": [],
      "source": [
        "f = plt.figure()\n",
        "plt.imshow(Normalised_decoded)\n",
        "plt.axis('off')\n",
        "plt.show()\n",
        "\n",
        "print(np.max(Normalised_decoded))\n",
        "print(np.min(Normalised_decoded))\n",
        "print()\n",
        "\n",
        "reverse = Normalised_decoded * image_minus_max\n",
        "print(np.max(reverse))\n",
        "print(np.min(reverse))\n",
        "print()\n",
        "\n",
        "reverse = reverse + image_nan_edited_min\n",
        "print(np.max(reverse))\n",
        "print(np.min(reverse))\n",
        "print()\n",
        "\n",
        "hdu = fits.PrimaryHDU(reverse)\n",
        "hdul = fits.HDUList([hdu])\n",
        "hdul.writeto(' .fits')"
      ]
    },
    {
      "cell_type": "code",
      "execution_count": null,
      "metadata": {
        "id": "676jDq-KBy_D"
      },
      "outputs": [],
      "source": [
        "f = plt.figure()\n",
        "plt.imshow(Alternate_reference)\n",
        "plt.axis('off')\n",
        "plt.show()\n",
        "\n",
        "print(np.max(Alternate_reference))\n",
        "print(np.min(Alternate_reference))\n",
        "print()\n",
        "\n",
        "reverse = Alternate_reference * image_minus_max_stack\n",
        "print(np.max(reverse))\n",
        "print(np.min(reverse))\n",
        "print()\n",
        "\n",
        "reverse = reverse + image_nan_edited_min_stack\n",
        "print(np.max(reverse))\n",
        "print(np.min(reverse))\n",
        "print()\n",
        "\n",
        "hdu = fits.PrimaryHDU(reverse)\n",
        "hdul = fits.HDUList([hdu])\n",
        "hdul.writeto(' .fits')"
      ]
    }
  ],
  "metadata": {
    "accelerator": "GPU",
    "colab": {
      "collapsed_sections": [],
      "machine_shape": "hm",
      "name": "TEST 8 before meeting V5 de_noise_v3.ipynb",
      "provenance": []
    },
    "kernelspec": {
      "display_name": "Python 3",
      "language": "python",
      "name": "python3"
    },
    "language_info": {
      "codemirror_mode": {
        "name": "ipython",
        "version": 3
      },
      "file_extension": ".py",
      "mimetype": "text/x-python",
      "name": "python",
      "nbconvert_exporter": "python",
      "pygments_lexer": "ipython3",
      "version": "3.7.6"
    }
  },
  "nbformat": 4,
  "nbformat_minor": 0
}